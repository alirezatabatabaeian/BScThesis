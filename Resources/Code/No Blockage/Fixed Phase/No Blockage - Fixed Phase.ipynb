{
 "cells": [
  {
   "cell_type": "code",
   "execution_count": 56,
   "metadata": {},
   "outputs": [],
   "source": [
    "import numpy as np # for easier computation\n",
    "from IPython.display import clear_output # to write new outputs on the previous outputs\n",
    "import matplotlib.pyplot as plt"
   ]
  },
  {
   "cell_type": "code",
   "execution_count": 57,
   "metadata": {},
   "outputs": [],
   "source": [
    "def modified_bisection(func, max_search= 10000, min_search=0.0, epsilon=10): # Modified Bisection Search Method\n",
    "    \"\"\"\n",
    "    Returns the root of a given function using Modified Bisection Method. In modified bisection method,\n",
    "    it is assumed that the function is decreasing, f(max_search) < 0 < f(min_search) and\n",
    "    it has only one root in [min_search, max_search] interval.\n",
    "\n",
    "        Parameters:\n",
    "            func (labmda function): purposed labmda function\n",
    "            max_search (float): upper bound of the search interval\n",
    "            min_search (float): lower bound of the search interval (default = 0)\n",
    "            epsilon (float): tolerance level of the root (default = 0.1)\n",
    "\n",
    "        Returns:\n",
    "            mid_point (float): root of the function\n",
    "    \"\"\"\n",
    "    while((max_search - min_search) > epsilon):\n",
    "        mid_point = (min_search + max_search)/2\n",
    "        if( func(mid_point) > 0): # Shorten the interval\n",
    "            min_search = mid_point\n",
    "        else:\n",
    "            max_search = mid_point\n",
    "\n",
    "    return mid_point"
   ]
  },
  {
   "cell_type": "code",
   "execution_count": 58,
   "metadata": {},
   "outputs": [],
   "source": [
    "def rate_calculator(user_path, W1, W2, sigma): # sinr & rate calculator\n",
    "    sinr = (np.abs(user_path * W1) ** 2) / (np.abs(user_path * W2) ** 2 + sigma ** 2)\n",
    "    rate = np.log2(1 + sinr)\n",
    "    return sinr, rate"
   ]
  },
  {
   "cell_type": "code",
   "execution_count": 59,
   "metadata": {},
   "outputs": [],
   "source": [
    "def f1_calculator(rate1, rate2, weight1, weight2): # sum-rate calculator\n",
    "    return weight1 * rate1 + weight2 * rate2"
   ]
  },
  {
   "cell_type": "code",
   "execution_count": 60,
   "metadata": {},
   "outputs": [],
   "source": [
    "# Define f1a calculator\n",
    "def f1a_calculator(Rate1, Rate2, sinr1, sinr2, w1, w2, alpha1, alpha2):\n",
    "    return (w1*Rate1 + w2*Rate2 - w1*alpha1 - w2*alpha2 +\n",
    "            (w1*(1+alpha1)*sinr1/(1+sinr1)) + (w2*(1+alpha2)*sinr2/(1+sinr2)))"
   ]
  },
  {
   "cell_type": "code",
   "execution_count": 61,
   "metadata": {},
   "outputs": [],
   "source": [
    "# Define f2a calculator\n",
    "def f2a_calculator(temp1, temp2, w1, w2, W1, W2, alpha1, alpha2, b1, b2, sigma):\n",
    "    return (2*np.sqrt(w1*(1+alpha1))*np.real(np.conjugate(b1)*temp1*W1) +\n",
    "            2*np.sqrt(w2*(1+alpha2))*np.real(np.conjugate(b2)*temp2*W2) -\n",
    "            (np.abs(b1)**2)*(np.abs(temp1*W1)**2 + np.abs(temp1*W2)**2 + sigma**2) -\n",
    "            (np.abs(b2)**2)*(np.abs(temp2*W2)**2 + np.abs(temp2*W1)**2 + sigma**2))"
   ]
  },
  {
   "cell_type": "code",
   "execution_count": 62,
   "metadata": {},
   "outputs": [],
   "source": [
    "# Define f3a calculator\n",
    "def f3a_calculator(temp1, temp2, w1, w2, W1, W2, alpha1, alpha2, epsilon1, epsilon2, sigma):\n",
    "    return (2*np.sqrt(w1*(1+alpha1))*np.real(np.conjugate(epsilon1)*temp1*W1) +\n",
    "            2*np.sqrt(w2*(1+alpha2))*np.real(np.conjugate(epsilon2)*temp2*W2) -\n",
    "            (np.abs(epsilon1)**2)*(np.abs(temp1*W1)**2 + np.abs(temp1*W2)**2 + sigma**2) -\n",
    "            (np.abs(epsilon2)**2)*(np.abs(temp2*W2)**2 + np.abs(temp2*W1)**2 + sigma**2))"
   ]
  },
  {
   "cell_type": "code",
   "execution_count": 63,
   "metadata": {},
   "outputs": [],
   "source": [
    "columns = 10"
   ]
  },
  {
   "cell_type": "code",
   "execution_count": 64,
   "metadata": {},
   "outputs": [],
   "source": [
    "rate1_no_blockage_fixed_phase = np.zeros((5, columns))\n",
    "rate2_no_blockage_fixed_phase = np.zeros((5, columns))"
   ]
  },
  {
   "cell_type": "code",
   "execution_count": 65,
   "metadata": {},
   "outputs": [
    {
     "ename": "KeyboardInterrupt",
     "evalue": "",
     "output_type": "error",
     "traceback": [
      "\u001b[1;31m---------------------------------------------------------------------------\u001b[0m",
      "\u001b[1;31mKeyboardInterrupt\u001b[0m                         Traceback (most recent call last)",
      "Cell \u001b[1;32mIn[65], line 95\u001b[0m\n\u001b[0;32m     88\u001b[0m temp_func \u001b[39m=\u001b[39m \u001b[39mlambda\u001b[39;00m lambda_temp : (np\u001b[39m.\u001b[39mlinalg\u001b[39m.\u001b[39mnorm(\u001b[39mcomplex\u001b[39m(np\u001b[39m.\u001b[39msqrt(w1 \u001b[39m*\u001b[39m (\u001b[39m1\u001b[39m \u001b[39m+\u001b[39m alpha1)) \u001b[39m*\u001b[39m b1) \u001b[39m*\u001b[39m np\u001b[39m.\u001b[39mlinalg\u001b[39m.\u001b[39minv(lambda_temp \u001b[39m*\u001b[39m np\u001b[39m.\u001b[39meye(N, dtype\u001b[39m=\u001b[39m \u001b[39m\"\u001b[39m\u001b[39mcomplex128\u001b[39m\u001b[39m\"\u001b[39m) \u001b[39m+\u001b[39m\n\u001b[0;32m     89\u001b[0m             \u001b[39mfloat\u001b[39m(np\u001b[39m.\u001b[39mabs(b1))\u001b[39m*\u001b[39m\u001b[39m*\u001b[39m\u001b[39m2\u001b[39m \u001b[39m*\u001b[39m user1_path\u001b[39m.\u001b[39mgetH() \u001b[39m*\u001b[39m user1_path \u001b[39m+\u001b[39m \u001b[39mfloat\u001b[39m(np\u001b[39m.\u001b[39mabs(b2))\u001b[39m*\u001b[39m\u001b[39m*\u001b[39m\u001b[39m2\u001b[39m \u001b[39m*\u001b[39muser2_path\u001b[39m.\u001b[39mgetH() \u001b[39m*\u001b[39m user2_path) \u001b[39m*\u001b[39m\n\u001b[0;32m     90\u001b[0m             user1_path\u001b[39m.\u001b[39mgetH())\u001b[39m*\u001b[39m\u001b[39m*\u001b[39m\u001b[39m2\u001b[39m \u001b[39m+\u001b[39m np\u001b[39m.\u001b[39mlinalg\u001b[39m.\u001b[39mnorm(\u001b[39mcomplex\u001b[39m(np\u001b[39m.\u001b[39msqrt(w2 \u001b[39m*\u001b[39m (\u001b[39m1\u001b[39m \u001b[39m+\u001b[39m alpha2)) \u001b[39m*\u001b[39m b2) \u001b[39m*\u001b[39m np\u001b[39m.\u001b[39mlinalg\u001b[39m.\u001b[39minv(lambda_temp \u001b[39m*\u001b[39m np\u001b[39m.\u001b[39meye(N, dtype\u001b[39m=\u001b[39m \u001b[39m\"\u001b[39m\u001b[39mcomplex128\u001b[39m\u001b[39m\"\u001b[39m) \u001b[39m+\u001b[39m\n\u001b[0;32m     91\u001b[0m             \u001b[39mfloat\u001b[39m(np\u001b[39m.\u001b[39mabs(b1))\u001b[39m*\u001b[39m\u001b[39m*\u001b[39m\u001b[39m2\u001b[39m \u001b[39m*\u001b[39m user1_path\u001b[39m.\u001b[39mgetH() \u001b[39m*\u001b[39m user1_path \u001b[39m+\u001b[39m \u001b[39mfloat\u001b[39m(np\u001b[39m.\u001b[39mabs(b2))\u001b[39m*\u001b[39m\u001b[39m*\u001b[39m\u001b[39m2\u001b[39m \u001b[39m*\u001b[39m user2_path\u001b[39m.\u001b[39mgetH() \u001b[39m*\u001b[39m user2_path) \u001b[39m*\u001b[39m\n\u001b[0;32m     92\u001b[0m             user2_path\u001b[39m.\u001b[39mgetH())\u001b[39m*\u001b[39m\u001b[39m*\u001b[39m\u001b[39m2\u001b[39m \u001b[39m-\u001b[39m max_power)\n\u001b[0;32m     94\u001b[0m \u001b[39m# Lagrangian dual variable\u001b[39;00m\n\u001b[1;32m---> 95\u001b[0m lambda_var \u001b[39m=\u001b[39m modified_bisection(temp_func, max_search\u001b[39m=\u001b[39;49mmax_search)\n\u001b[0;32m     97\u001b[0m \u001b[39m# Antenna beamforming(Active beamforming)\u001b[39;00m\n\u001b[0;32m     98\u001b[0m W1_before \u001b[39m=\u001b[39m W1\n",
      "Cell \u001b[1;32mIn[57], line 18\u001b[0m, in \u001b[0;36mmodified_bisection\u001b[1;34m(func, max_search, min_search, epsilon)\u001b[0m\n\u001b[0;32m     16\u001b[0m \u001b[39mwhile\u001b[39;00m((max_search \u001b[39m-\u001b[39m min_search) \u001b[39m>\u001b[39m epsilon):\n\u001b[0;32m     17\u001b[0m     mid_point \u001b[39m=\u001b[39m (min_search \u001b[39m+\u001b[39m max_search)\u001b[39m/\u001b[39m\u001b[39m2\u001b[39m\n\u001b[1;32m---> 18\u001b[0m     \u001b[39mif\u001b[39;00m( func(mid_point) \u001b[39m>\u001b[39m \u001b[39m0\u001b[39m): \u001b[39m# Shorten the interval\u001b[39;00m\n\u001b[0;32m     19\u001b[0m         min_search \u001b[39m=\u001b[39m mid_point\n\u001b[0;32m     20\u001b[0m     \u001b[39melse\u001b[39;00m:\n",
      "Cell \u001b[1;32mIn[65], line 88\u001b[0m, in \u001b[0;36m<lambda>\u001b[1;34m(lambda_temp)\u001b[0m\n\u001b[0;32m     85\u001b[0m b2 \u001b[39m=\u001b[39m (np\u001b[39m.\u001b[39msqrt(w2 \u001b[39m*\u001b[39m (\u001b[39m1\u001b[39m \u001b[39m+\u001b[39m alpha2)) \u001b[39m*\u001b[39m user2_path \u001b[39m*\u001b[39m W2) \u001b[39m/\u001b[39m (np\u001b[39m.\u001b[39mabs(user2_path \u001b[39m*\u001b[39m W2)\u001b[39m*\u001b[39m\u001b[39m*\u001b[39m\u001b[39m2\u001b[39m \u001b[39m+\u001b[39m np\u001b[39m.\u001b[39mabs(user2_path \u001b[39m*\u001b[39m W1)\u001b[39m*\u001b[39m\u001b[39m*\u001b[39m\u001b[39m2\u001b[39m \u001b[39m+\u001b[39m sigma\u001b[39m*\u001b[39m\u001b[39m*\u001b[39m\u001b[39m2\u001b[39m)\n\u001b[0;32m     87\u001b[0m \u001b[39m# Lagrangian dual transformation\u001b[39;00m\n\u001b[1;32m---> 88\u001b[0m temp_func \u001b[39m=\u001b[39m \u001b[39mlambda\u001b[39;00m lambda_temp : (np\u001b[39m.\u001b[39mlinalg\u001b[39m.\u001b[39mnorm(\u001b[39mcomplex\u001b[39;49m(np\u001b[39m.\u001b[39;49msqrt(w1 \u001b[39m*\u001b[39;49m (\u001b[39m1\u001b[39;49m \u001b[39m+\u001b[39;49m alpha1)) \u001b[39m*\u001b[39;49m b1) \u001b[39m*\u001b[39m np\u001b[39m.\u001b[39mlinalg\u001b[39m.\u001b[39minv(lambda_temp \u001b[39m*\u001b[39m np\u001b[39m.\u001b[39meye(N, dtype\u001b[39m=\u001b[39m \u001b[39m\"\u001b[39m\u001b[39mcomplex128\u001b[39m\u001b[39m\"\u001b[39m) \u001b[39m+\u001b[39m\n\u001b[0;32m     89\u001b[0m             \u001b[39mfloat\u001b[39m(np\u001b[39m.\u001b[39mabs(b1))\u001b[39m*\u001b[39m\u001b[39m*\u001b[39m\u001b[39m2\u001b[39m \u001b[39m*\u001b[39m user1_path\u001b[39m.\u001b[39mgetH() \u001b[39m*\u001b[39m user1_path \u001b[39m+\u001b[39m \u001b[39mfloat\u001b[39m(np\u001b[39m.\u001b[39mabs(b2))\u001b[39m*\u001b[39m\u001b[39m*\u001b[39m\u001b[39m2\u001b[39m \u001b[39m*\u001b[39muser2_path\u001b[39m.\u001b[39mgetH() \u001b[39m*\u001b[39m user2_path) \u001b[39m*\u001b[39m\n\u001b[0;32m     90\u001b[0m             user1_path\u001b[39m.\u001b[39mgetH())\u001b[39m*\u001b[39m\u001b[39m*\u001b[39m\u001b[39m2\u001b[39m \u001b[39m+\u001b[39m np\u001b[39m.\u001b[39mlinalg\u001b[39m.\u001b[39mnorm(\u001b[39mcomplex\u001b[39m(np\u001b[39m.\u001b[39msqrt(w2 \u001b[39m*\u001b[39m (\u001b[39m1\u001b[39m \u001b[39m+\u001b[39m alpha2)) \u001b[39m*\u001b[39m b2) \u001b[39m*\u001b[39m np\u001b[39m.\u001b[39mlinalg\u001b[39m.\u001b[39minv(lambda_temp \u001b[39m*\u001b[39m np\u001b[39m.\u001b[39meye(N, dtype\u001b[39m=\u001b[39m \u001b[39m\"\u001b[39m\u001b[39mcomplex128\u001b[39m\u001b[39m\"\u001b[39m) \u001b[39m+\u001b[39m\n\u001b[0;32m     91\u001b[0m             \u001b[39mfloat\u001b[39m(np\u001b[39m.\u001b[39mabs(b1))\u001b[39m*\u001b[39m\u001b[39m*\u001b[39m\u001b[39m2\u001b[39m \u001b[39m*\u001b[39m user1_path\u001b[39m.\u001b[39mgetH() \u001b[39m*\u001b[39m user1_path \u001b[39m+\u001b[39m \u001b[39mfloat\u001b[39m(np\u001b[39m.\u001b[39mabs(b2))\u001b[39m*\u001b[39m\u001b[39m*\u001b[39m\u001b[39m2\u001b[39m \u001b[39m*\u001b[39m user2_path\u001b[39m.\u001b[39mgetH() \u001b[39m*\u001b[39m user2_path) \u001b[39m*\u001b[39m\n\u001b[0;32m     92\u001b[0m             user2_path\u001b[39m.\u001b[39mgetH())\u001b[39m*\u001b[39m\u001b[39m*\u001b[39m\u001b[39m2\u001b[39m \u001b[39m-\u001b[39m max_power)\n\u001b[0;32m     94\u001b[0m \u001b[39m# Lagrangian dual variable\u001b[39;00m\n\u001b[0;32m     95\u001b[0m lambda_var \u001b[39m=\u001b[39m modified_bisection(temp_func, max_search\u001b[39m=\u001b[39mmax_search)\n",
      "\u001b[1;31mKeyboardInterrupt\u001b[0m: "
     ]
    }
   ],
   "source": [
    "for M1 in range(10, 51, 10):\n",
    "    for column in range(columns):\n",
    "        # Hyper Parameters\n",
    "        N  = 20 # Antenna dimension\n",
    "        # M1 = 30 # IRS1 dimension\n",
    "        M2 = 20 # IRS2 dimension\n",
    "        w1 = 1 # First user's weight\n",
    "        w2 = 1 # Second user's weight\n",
    "        max_power = 0.01 # Transmitted power\n",
    "        sigma = 0.0001 # Noise standard deviation\n",
    "        # Path-Loss exponent\n",
    "        ALPHA_HIGH = 2.5\n",
    "        ALPHA_LOW  = 2\n",
    "        BETWEEN_IRS = 1.8\n",
    "\n",
    "        # Distances\n",
    "        BS_IRS1 = 20\n",
    "        BS_IRS2 = 30\n",
    "        IRS1_IRS2 = 40\n",
    "        BS_USER1 = 50\n",
    "        BS_USER2 = 60\n",
    "        IRS1_USER1 = 50\n",
    "        IRS1_USER2 = 40\n",
    "        IRS2_USER1 = 30\n",
    "        IRS2_USER2 = 20\n",
    "\n",
    "        # Channels\n",
    "        Hs1 = np.matrix(np.sqrt(BS_IRS1**-ALPHA_LOW) * np.exp(2*np.pi*1j*np.random.rand(M1, N))) # Antenna - IRS1\n",
    "        Hs2 = np.matrix(np.sqrt(BS_IRS2**-ALPHA_LOW) * np.exp(2*np.pi*1j*np.random.rand(M2, N))) # Antenna - IRS2\n",
    "\n",
    "        # Between IRS Signal\n",
    "        H12 = np.matrix(np.zeros((M2, M1)))\n",
    "        # H12 = np.matrix(np.sqrt(IRS1_IRS2**-BETWEEN_IRS) * np.exp(2*np.pi*1j*np.random.rand(M2, M1))) # IRS1 - IRS2\n",
    "        H21 = H12.H # IRS2 - IRS1\n",
    "\n",
    "        # hsu1 = np.matrix(np.zeros((1, N))) # Blockage Antenna - User1\n",
    "        hsu1 = np.matrix(np.sqrt(BS_USER1**-ALPHA_HIGH) * np.exp(2*np.pi*1j*np.random.rand(1, N))) # Antenna - User1\n",
    "        hsu2 = np.matrix(np.sqrt(BS_USER2**-ALPHA_HIGH) * np.exp(2*np.pi*1j*np.random.rand(1, N))) # Antenna - User2\n",
    "\n",
    "        h1u1 = np.matrix(np.sqrt(IRS1_USER1**-ALPHA_LOW) * np.exp(2*np.pi*1j*np.random.rand(1, M1))) # IRS1 - User1\n",
    "        h1u2 = np.matrix(np.sqrt(IRS1_USER2**-ALPHA_LOW) * np.exp(2*np.pi*1j*np.random.rand(1, M1))) # IRS1 - User2\n",
    "\n",
    "        # h2u1 = np.matrix(np.zeros((1,M2))) # Blockage IRS2 - User1\n",
    "        h2u1 = np.matrix(np.sqrt(IRS2_USER1**-ALPHA_LOW) * np.exp(2*np.pi*1j*np.random.rand(1, M2))) # IRS2 - User1\n",
    "        h2u2 = np.matrix(np.sqrt(IRS2_USER2**-ALPHA_LOW) * np.exp(2*np.pi*1j*np.random.rand(1, M2))) # IRS2 - User2\n",
    "\n",
    "        # Passive Beamforming Coefficients Initialization\n",
    "        theta1 = np.exp(1j * 2*np.pi * np.random.rand(1, M1)[0])\n",
    "        theta2 = np.exp(1j * 2*np.pi * np.random.rand(1, M2)[0])\n",
    "        phi1 = np.matrix(np.diag(theta1))\n",
    "        phi2 = np.matrix(np.diag(theta2))\n",
    "        theta1_temp = theta1\n",
    "        theta2_temp = theta2\n",
    "\n",
    "        # Path for each user\n",
    "        user1_path = hsu1 + h1u1*phi1*Hs1 + h2u1*phi2*Hs2 + h1u1*phi1*H21*phi2*Hs2 + h2u1*phi2*H12*phi1*Hs1\n",
    "        user2_path = hsu2 + h1u2*phi1*Hs1 + h2u2*phi2*Hs2 + h1u2*phi1*H21*phi2*Hs2 + h2u2*phi2*H12*phi1*Hs1\n",
    "\n",
    "        # Active Beamforming Coefficients Initialization\n",
    "        W1 = np.random.rand(N, 1)\n",
    "        W2 = np.random.rand(N, 1)\n",
    "        W1_temp = W1\n",
    "        W2_temp = W2\n",
    "\n",
    "        gamma = 0.1\n",
    "\n",
    "        # Coordinate Descent\n",
    "        mini_result = []\n",
    "        i = 0\n",
    "        # while True:\n",
    "        while((i <= 50) or ((mini_result[-1] - mini_result[-50]) > 0.01)):\n",
    "            i += 1\n",
    "            # -------------------------------------------------------------------------------------------------------------------------------\n",
    "            # To remove log2\n",
    "            for _ in range(1):\n",
    "                sinr1, rate1 = rate_calculator(user1_path, W1, W2, sigma)\n",
    "                sinr2, rate2 = rate_calculator(user2_path, W2, W1, sigma)\n",
    "                alpha1 = sinr1\n",
    "                alpha2 = sinr2\n",
    "            # -------------------------------------------------------------------------------------------------------------------------------\n",
    "            # Active Beamforming Optimization\n",
    "            for _ in range(1):\n",
    "                # Fraction to Linear\n",
    "                b1 = (np.sqrt(w1 * (1 + alpha1)) * user1_path * W1) / (np.abs(user1_path * W1)**2 + np.abs(user1_path * W2)**2 + sigma**2)\n",
    "                b2 = (np.sqrt(w2 * (1 + alpha2)) * user2_path * W2) / (np.abs(user2_path * W2)**2 + np.abs(user2_path * W1)**2 + sigma**2)\n",
    "\n",
    "                # Lagrangian dual transformation\n",
    "                temp_func = lambda lambda_temp : (np.linalg.norm(complex(np.sqrt(w1 * (1 + alpha1)) * b1) * np.linalg.inv(lambda_temp * np.eye(N, dtype= \"complex128\") +\n",
    "                            float(np.abs(b1))**2 * user1_path.getH() * user1_path + float(np.abs(b2))**2 *user2_path.getH() * user2_path) *\n",
    "                            user1_path.getH())**2 + np.linalg.norm(complex(np.sqrt(w2 * (1 + alpha2)) * b2) * np.linalg.inv(lambda_temp * np.eye(N, dtype= \"complex128\") +\n",
    "                            float(np.abs(b1))**2 * user1_path.getH() * user1_path + float(np.abs(b2))**2 * user2_path.getH() * user2_path) *\n",
    "                            user2_path.getH())**2 - max_power)\n",
    "\n",
    "                # Lagrangian dual variable\n",
    "                lambda_var = modified_bisection(temp_func)\n",
    "                \n",
    "                # Antenna beamforming(Active beamforming)\n",
    "                W1_before = W1\n",
    "                W2_before = W2\n",
    "\n",
    "                W1 = (complex(np.sqrt(w1 * (1 + alpha1)) * b1) * np.linalg.inv(lambda_var * np.eye(N, dtype= \"complex128\") + float(np.abs(b1))**2 * user1_path.getH() *\n",
    "                    user1_path + float(np.abs(b2))**2 * user2_path.getH() * user2_path) * user1_path.getH())\n",
    "                W2 = (complex(np.sqrt(w2 * (1 + alpha2)) * b2) * np.linalg.inv(lambda_var * np.eye(N, dtype= \"complex128\") + float(np.abs(b1))**2 * user1_path.getH() *\n",
    "                    user1_path + float(np.abs(b2))**2 * user2_path.getH() * user2_path) * user2_path.getH())\n",
    "            # -------------------------------------------------------------------------------------------------------------------------------\n",
    "            for _ in range(1):\n",
    "                # Fraction to Linear\n",
    "                epsilon1 = (np.sqrt(w1*(1+alpha1)) * user1_path*W1) / (np.abs(user1_path*W1)**2 + np.abs(user1_path*W2)**2 + sigma**2)\n",
    "                epsilon2 = (np.sqrt(w2*(1+alpha2)) * user2_path*W2) / (np.abs(user2_path*W2)**2 + np.abs(user2_path*W1)**2 + sigma**2)\n",
    "\n",
    "                # IRS1 optimization\n",
    "                a00 = (np.matrix(np.diag(np.array(h1u1)[0]))*Hs1 +\n",
    "                                    np.matrix(np.diag(np.array(h1u1)[0]))*H21*phi2*Hs2 +\n",
    "                                    np.matrix(np.diag(np.array(h2u1*phi2*H12)[0]))*Hs1)*W1\n",
    "                a10 = (np.matrix(np.diag(np.array(h1u1)[0]))*Hs1 +\n",
    "                                    np.matrix(np.diag(np.array(h1u1)[0]))*H21*phi2*Hs2 +\n",
    "                                    np.matrix(np.diag(np.array(h2u1*phi2*H12)[0]))*Hs1)*W2\n",
    "                a01 = (np.matrix(np.diag(np.array(h1u2)[0]))*Hs1 +\n",
    "                                    np.matrix(np.diag(np.array(h1u2)[0]))*H21*phi2*Hs2 +\n",
    "                                    np.matrix(np.diag(np.array(h2u2*phi2*H12)[0]))*Hs1)*W1\n",
    "                a11 = (np.matrix(np.diag(np.array(h1u2)[0]))*Hs1 +\n",
    "                                    np.matrix(np.diag(np.array(h1u2)[0]))*H21*phi2*Hs2 +\n",
    "                                    np.matrix(np.diag(np.array(h2u2*phi2*H12)[0]))*Hs1)*W2\n",
    "                b = np.matrix([[((hsu1 + h2u1*phi2*Hs2)*W1)[0,0],\n",
    "                                ((hsu2 + h2u2*phi2*Hs2)*W1)[0,0]],\n",
    "                                [((hsu1 + h2u1*phi2*Hs2)*W2)[0,0],\n",
    "                                ((hsu2 + h2u2*phi2*Hs2)*W2)[0,0]]])\n",
    "                U = (np.abs(epsilon1)**2)[0,0] * (a00*(a00.H) + a10*(a10.H)) + \\\n",
    "                    (np.abs(epsilon2)**2)[0,0] * (a01*(a01.H) + a11*(a11.H))\n",
    "                v = (np.sqrt(w1*(1+alpha1))[0,0] * np.conjugate(epsilon1)[0,0] * a00 -\n",
    "                        (np.abs(epsilon1)[0,0]**2) * (np.conjugate(b[0,0]) * a00 + np.conjugate(b[1,0]) * a10)) + \\\n",
    "                    (np.sqrt(w2*(1+alpha2))[0,0] * np.conjugate(epsilon2)[0,0] * a11 -\n",
    "                        (np.abs(epsilon2)[0,0]**2) * (np.conjugate(b[0,1]) * a01 + np.conjugate(b[1,1]) * a11))\n",
    "\n",
    "                first_part = np.array((-U * np.matrix(theta1).transpose().conjugate() + v).conjugate())\n",
    "                second_part = np.array((-1j * np.matrix(theta1).transpose().conjugate()))\n",
    "                derivative = 2 * np.real(first_part * second_part).transpose()[0]\n",
    "                phase = np.angle(theta1) + gamma*derivative\n",
    "                theta1 = np.exp(1j * phase)\n",
    "                # ------------------------------- #\n",
    "                phi1 = np.matrix(np.diag(theta1))\n",
    "\n",
    "                # IRS2 optimization\n",
    "                a00 = (np.matrix(np.diag(np.array(h2u1)[0]))*Hs2 +\n",
    "                                    np.matrix(np.diag(np.array(h1u1*phi1*H21)[0]))*Hs2 +\n",
    "                                    np.matrix(np.diag(np.array(h2u1)[0]))*H12*phi1*Hs1)*W1\n",
    "                a10 = (np.matrix(np.diag(np.array(h2u1)[0]))*Hs2 +\n",
    "                                    np.matrix(np.diag(np.array(h1u1*phi1*H21)[0]))*Hs2 +\n",
    "                                    np.matrix(np.diag(np.array(h2u1)[0]))*H12*phi1*Hs1)*W2\n",
    "                a01 = (np.matrix(np.diag(np.array(h2u2)[0]))*Hs2 +\n",
    "                                    np.matrix(np.diag(np.array(h1u2*phi1*H21)[0]))*Hs2 +\n",
    "                                    np.matrix(np.diag(np.array(h2u2)[0]))*H12*phi1*Hs1)*W1\n",
    "                a11 = (np.matrix(np.diag(np.array(h2u2)[0]))*Hs2 +\n",
    "                                    np.matrix(np.diag(np.array(h1u2*phi1*H21)[0]))*Hs2 +\n",
    "                                    np.matrix(np.diag(np.array(h2u2)[0]))*H12*phi1*Hs1)*W2\n",
    "                b = np.matrix([[((hsu1 + h1u1*phi1*Hs1)*W1)[0,0],\n",
    "                                ((hsu2 + h1u2*phi1*Hs1)*W1)[0,0]],\n",
    "                                [((hsu1 + h1u1*phi1*Hs1)*W2)[0,0],\n",
    "                                ((hsu2 + h1u2*phi1*Hs1)*W2)[0,0]]])\n",
    "                U = (np.abs(epsilon1)**2)[0,0] * (a00*(a00.H) + a10*(a10.H)) + \\\n",
    "                    (np.abs(epsilon2)**2)[0,0] * (a01*(a01.H) + a11*(a11.H))\n",
    "                v = (np.sqrt(w1*(1+alpha1))[0,0] * np.conjugate(epsilon1)[0,0] * a00 -\n",
    "                        (np.abs(epsilon1)[0,0]**2) * (np.conjugate(b[0,0]) * a00 + np.conjugate(b[1,0]) * a10)) + \\\n",
    "                    (np.sqrt(w2*(1+alpha2))[0,0] * np.conjugate(epsilon2)[0,0] * a11 -\n",
    "                        (np.abs(epsilon2)[0,0]**2) * (np.conjugate(b[0,1]) * a01 + np.conjugate(b[1,1]) * a11))\n",
    "\n",
    "                first_part = np.array((-U * np.matrix(theta2).transpose().conjugate() + v).conjugate())\n",
    "                second_part = np.array((-1j * np.matrix(theta2).transpose().conjugate()))\n",
    "                derivative = 2 * np.real(first_part * second_part).transpose()[0]\n",
    "                phase = np.angle(theta2) + gamma*derivative\n",
    "                theta2 = np.exp(1j * phase)\n",
    "                # ------------------------------- #\n",
    "                phi2 = np.matrix(np.diag(theta2))\n",
    "\n",
    "                # user1_path = hsu1 + h1u1*phi1*Hs1 + h2u1*phi2*Hs2 + h1u1*phi1*H21*phi2*Hs2 + h2u1*phi2*H12*phi1*Hs1\n",
    "                # user2_path = hsu2 + h1u2*phi1*Hs1 + h2u2*phi2*Hs2 + h1u2*phi1*H21*phi2*Hs2 + h2u2*phi2*H12*phi1*Hs1\n",
    "            # -------------------------------------------------------------------------------------------------------------------------------\n",
    "\n",
    "                sinr1, rate1 = rate_calculator(user1_path, W1, W2, sigma)\n",
    "                sinr2, rate2 = rate_calculator(user2_path, W2, W1, sigma)\n",
    "\n",
    "                mini_result.append(f1_calculator(rate1, rate2, w1, w2)[0, 0])\n",
    "                \n",
    "                if i % 5 == 0:\n",
    "                    print(\"Sample:\", columns * (M1/10 - 1) + (column + 1))\n",
    "                    print(\"Lambda Variable: \", lambda_var)\n",
    "                    print(\"Ratio Power in percent:\", 100 * np.abs(np.linalg.norm(W1)**2 + np.linalg.norm(W2)**2 - max_power)/max_power)\n",
    "                    print(\"Rate1: \", rate1[0, 0])\n",
    "                    print(\"Rate2: \", rate2[0, 0])\n",
    "                    print(\"Sum-Rate :\", f1_calculator(rate1, rate2, w1, w2)[0, 0])\n",
    "                    # print(\"f3a-Value :\", f3a_calculator(user1_path, user2_path, w1, w2, W1, W2, alpha1, alpha2, epsilon1, epsilon2, sigma)[0, 0])\n",
    "                    print(\"Theta1 phase: \", np.angle(theta1) * 180 / np.pi)\n",
    "                    print(\"Theta2 phase: \", np.angle(theta2) * 180 / np.pi)\n",
    "                    print(\"Gamma: \", gamma)\n",
    "                    clear_output(wait=True)\n",
    "                    \n",
    "        # H12 = np.matrix(np.sqrt(IRS1_IRS2**-BETWEEN_IRS) * np.exp(2*np.pi*1j*np.random.rand(M2, M1))) # IRS1 - IRS2\n",
    "        # H21 = H12.H # IRS2 - IRS1\n",
    "        # user1_path = hsu1 + h1u1*phi1*Hs1 + h2u1*phi2*Hs2 + h1u1*phi1*H21*phi2*Hs2 + h2u1*phi2*H12*phi1*Hs1\n",
    "        # user2_path = hsu2 + h1u2*phi1*Hs1 + h2u2*phi2*Hs2 + h1u2*phi1*H21*phi2*Hs2 + h2u2*phi2*H12*phi1*Hs1\n",
    "        # sinr1, rate1 = rate_calculator(user1_path, W1, W2, sigma)\n",
    "        # sinr2, rate2 = rate_calculator(user2_path, W2, W1, sigma)\n",
    "        rate1_no_blockage_fixed_phase[int(M1/10)-1, column] = rate1[0, 0]\n",
    "        rate2_no_blockage_fixed_phase[int(M1/10)-1, column] = rate2[0, 0]"
   ]
  },
  {
   "cell_type": "code",
   "execution_count": null,
   "metadata": {},
   "outputs": [],
   "source": [
    "with open('rate1_no_blockage_fixed_phase.npy', 'wb') as f:\n",
    "    np.save(f, rate1_no_blockage_fixed_phase)"
   ]
  },
  {
   "cell_type": "code",
   "execution_count": null,
   "metadata": {},
   "outputs": [],
   "source": [
    "with open('rate2_no_blockage_fixed_phase.npy', 'wb') as f:\n",
    "    np.save(f, rate2_no_blockage_fixed_phase)"
   ]
  },
  {
   "cell_type": "code",
   "execution_count": null,
   "metadata": {},
   "outputs": [
    {
     "data": {
      "text/plain": [
       "array([ 9.56078678, 10.50672744,  9.90838507,  9.89069164, 10.36331359])"
      ]
     },
     "execution_count": 54,
     "metadata": {},
     "output_type": "execute_result"
    }
   ],
   "source": [
    "rate1_no_blockage_fixed_phase[:, 0]"
   ]
  },
  {
   "cell_type": "code",
   "execution_count": null,
   "metadata": {},
   "outputs": [
    {
     "data": {
      "text/plain": [
       "array([10.40692209,  9.03009185, 11.18921526, 10.4905582 ,  9.97492277])"
      ]
     },
     "execution_count": 55,
     "metadata": {},
     "output_type": "execute_result"
    }
   ],
   "source": [
    "rate2_no_blockage_fixed_phase[:, 0]"
   ]
  }
 ],
 "metadata": {
  "kernelspec": {
   "display_name": "Python 3",
   "language": "python",
   "name": "python3"
  },
  "language_info": {
   "codemirror_mode": {
    "name": "ipython",
    "version": 3
   },
   "file_extension": ".py",
   "mimetype": "text/x-python",
   "name": "python",
   "nbconvert_exporter": "python",
   "pygments_lexer": "ipython3",
   "version": "3.11.4"
  },
  "orig_nbformat": 4,
  "vscode": {
   "interpreter": {
    "hash": "778d7ae2838e3957af481e3c265347d226da18a4000824f55038524d6c74a8c4"
   }
  }
 },
 "nbformat": 4,
 "nbformat_minor": 2
}
